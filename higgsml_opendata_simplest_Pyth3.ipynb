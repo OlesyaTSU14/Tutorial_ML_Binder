{
 "cells": [
  {
   "cell_type": "code",
   "execution_count": null,
   "metadata": {},
   "outputs": [],
   "source": [
    "#%%bash\n",
    "#pip install --upgrade pip"
   ]
  },
  {
   "cell_type": "code",
   "execution_count": null,
   "metadata": {},
   "outputs": [],
   "source": [
    "#%%bash\n",
    "#pip install -r requirementsPyth.txt"
   ]
  },
  {
   "cell_type": "code",
   "execution_count": 1,
   "metadata": {},
   "outputs": [
    {
     "name": "stdout",
     "output_type": "stream",
     "text": [
      "Reading the data file : atlas-higgs-challenge-2014-v2.csv\n",
      "['EventId', 'DER_mass_MMC', 'DER_mass_transverse_met_lep', 'DER_mass_vis', 'DER_pt_h', 'DER_deltaeta_jet_jet', 'DER_mass_jet_jet', 'DER_prodeta_jet_jet', 'DER_deltar_tau_lep', 'DER_pt_tot']\n"
     ]
    }
   ],
   "source": [
    "\"\"\"\n",
    "ATLAS Higgs Machine Learning Challenge 2014\n",
    "\n",
    "This script is a very simple example,  it uses a simple window on one variable DER_mass_MMC\n",
    "to compute the score and build a submission file in kaggle format\n",
    "\n",
    "Author D. Rousseau LAL\n",
    "\"\"\"\n",
    "\n",
    "\n",
    "import csv\n",
    "\n",
    "datafile=\"atlas-higgs-challenge-2014-v2.csv\"\n",
    " \n",
    "\n",
    "print(\"Reading the data file :\",datafile)\n",
    "# store everything in memory\n",
    "alldata = list(csv.reader(open(datafile,\"r\"), delimiter=','))\n",
    "\n",
    "# first line is the list of variables, put it aside\n",
    "header        = alldata.pop(0)\n",
    "\n",
    "print(header[:10])"
   ]
  },
  {
   "cell_type": "code",
   "execution_count": 20,
   "metadata": {},
   "outputs": [
    {
     "name": "stdout",
     "output_type": "stream",
     "text": [
      "Loop on  dataset and compute the score\n",
      "Loop again to determine the AMS, using threshold: -22\n",
      "only look at kaggle public data set ('b') (other choice training 't', private 'v', unused 'u')\n",
      "One could make one own dataset (then the weight should be renoramalised)\n"
     ]
    }
   ],
   "source": [
    "# get the index of a few variables\n",
    "iid=header.index(\"EventId\")\n",
    "ilabel=header.index(\"Label\")\n",
    "ikaggleset=header.index(\"KaggleSet\")\n",
    "ikaggleweight=header.index(\"KaggleWeight\")\n",
    "iweight=header.index(\"Weight\") # original weight     \n",
    "immc=header.index(\"DER_mass_MMC\")\n",
    "injet=header.index(\"PRI_jet_num\")\n",
    "\n",
    "# turn all entries from string to float, except EventId and PRI_jet_num to int, except Label and KaggleSet remains string\n",
    "for entry in alldata:\n",
    "        for i in range(len(entry)):\n",
    "                if i in [iid,injet]:\n",
    "                    entry[i]=int(entry[i])\n",
    "                elif i not in [ilabel,ikaggleset]:\n",
    "                    entry[i]=float(entry[i])\n",
    "\n",
    "print(\"Loop on  dataset and compute the score\")\n",
    "header+=[\"myscore\"] # myscore is a new variable\n",
    "\n",
    "# loop and all entries and compute my score\n",
    "for entry in alldata:\n",
    "    myscore=-abs(entry[immc]-125.) # this is a simple discriminating variable. Signal should be closer to zero.\n",
    "                                   # minus sign so that signal has the highest values\n",
    "                                   # so we will be making a simple window cut on the Higgs mass estimator\n",
    "                                   # 125 GeV is the middle of the window\n",
    "    entry+=[myscore]\n",
    "    \n",
    "# at this stage alldata is a list (one entry per line) of list of variables\n",
    "# which can be conveniently accessed by getting the index from the header \n",
    "\n",
    "threshold=-22 # somewhat arbitrary value, should be optimised\n",
    "\n",
    "print(\"Loop again to determine the AMS, using threshold:\",threshold)\n",
    "sumselsig=0.\n",
    "sumselbkg=0.\n",
    "sumallsig=0.\n",
    "sumallbkg=0.\n",
    "sumsubsig=0.\n",
    "sumsubbkg=0.\n",
    "\n",
    "sumselkagglesig=0.\n",
    "sumselkagglebkg=0.\n",
    "\n",
    "iscore=header.index(\"myscore\")\n",
    "print(\"only look at kaggle public data set ('b') (other choice training 't', private 'v', unused 'u')\")\n",
    "print(\"One could make one own dataset (then the weight should be renoramalised)\")\n",
    "\n",
    "for entry in alldata:\n",
    "    myscore=entry[iscore]\n",
    "    weight=entry[iweight]\n",
    "    kaggleweight=entry[ikaggleweight]    \n",
    "\n",
    "    # compute sum of signal and background weight needed to renormalise\n",
    "    if entry[ilabel]==\"s\":\n",
    "        sumallsig+=weight\n",
    "    else:\n",
    "        sumallbkg+=weight    \n",
    "\n",
    "        \n",
    "\n",
    "    if entry[ikaggleset]!=\"b\":\n",
    "        continue\n",
    "    \n",
    "    # from now on, only work on subset\n",
    "    # compute sum of signal and background weight needed to renormalise\n",
    "    if entry[ilabel]==\"s\":\n",
    "        sumsubsig+=weight\n",
    "    else:\n",
    "        sumsubbkg+=weight    \n",
    "    \n",
    "    \n",
    "    # sum event weight passing the selection. Of course in real life the threshold should be optimised\n",
    "    if myscore >threshold:\n",
    "        if entry[ilabel]==\"s\":\n",
    "            sumselsig+=weight\n",
    "            sumselkagglesig+=kaggleweight\n",
    "        else:\n",
    "            sumselbkg+=weight                \n",
    "            sumselkagglebkg+=kaggleweight    \n",
    "\n",
    "\n",
    "\n",
    "\n"
   ]
  },
  {
   "cell_type": "code",
   "execution_count": 22,
   "metadata": {},
   "outputs": [],
   "source": [
    "# ok now we have our signal (sumselkagglesig) and background (sumselkagglebkg) estimation\n",
    "# just as an illustration, also compute the renormalisation myself from weight\n",
    "\n",
    "sumsig=sumselsig*sumallsig/sumsubsig\n",
    "sumbkg=sumselbkg*sumallbkg/sumsubbkg\n",
    "\n"
   ]
  },
  {
   "cell_type": "code",
   "execution_count": 23,
   "metadata": {},
   "outputs": [
    {
     "name": "stdout",
     "output_type": "stream",
     "text": [
      " AMS with recomputed weight:  1.5445097433569694 ( signal= 461.2280962093439  bkg= 89012.84498602658 )\n",
      " AMS with kaggle weight :  1.5445097433687833 ( signal= 461.22809620945833  bkg= 89012.84498604067 )\n",
      " recomputed weight and Kaggle weight should be identical if using a predefined kaggle subset\n"
     ]
    }
   ],
   "source": [
    "# compute AMS\n",
    "def ams(s,b):\n",
    "    from math import sqrt,log\n",
    "    if b==0:\n",
    "        return 0\n",
    "\n",
    "    return sqrt(2*((s+b+10)*log(1+float(s)/(b+10))-s))\n",
    "\n",
    "print(\" AMS with recomputed weight: \",ams(sumsig,sumbkg),\"( signal=\",sumsig,\" bkg=\",sumbkg,\")\")\n",
    "print(\" AMS with kaggle weight : \",ams(sumselkagglesig,sumselkagglebkg),\"( signal=\",sumselkagglesig,\" bkg=\",sumselkagglebkg,\")\")\n",
    "print(\" recomputed weight and Kaggle weight should be identical if using a predefined kaggle subset\")\n",
    "\n",
    "\n"
   ]
  },
  {
   "cell_type": "code",
   "execution_count": 25,
   "metadata": {},
   "outputs": [
    {
     "name": "stdout",
     "output_type": "stream",
     "text": [
      " Now build submission file a la Kaggle: submission_simplest.csv\n"
     ]
    }
   ],
   "source": [
    "submissionfilename=\"submission_simplest.csv\"\n",
    "print(\" Now build submission file a la Kaggle:\",submissionfilename)\n",
    "\n",
    "# build subset with only the needed variables\n",
    "alltest=[]\n",
    "for entry in alldata:\n",
    "    if entry[ikaggleset] not in [\"b\",\"v\"]:\n",
    "        continue\n",
    "    # build the new record with only the needed info    \n",
    "    outputentry=[]\n",
    "    outputentry+=[entry[iid]]\n",
    "    outputentry+=[entry[iscore]]\n",
    "    alltest+=[outputentry]\n",
    "\n",
    "#index of variables in the subset     \n",
    "ioid=0\n",
    "ioscore=1    \n",
    "# Sort on the score \n",
    "alltestsorted=sorted(alltest,key=lambda entrytest: entrytest[ioscore])\n",
    "# the RankOrder we want is now simply the entry number in alltestsorted\n",
    "\n",
    "\n",
    "outputfile=open(submissionfilename,\"w\")\n",
    "outputfile.write(\"EventId,RankOrder,Class\\n\")\n",
    "\n",
    "rank=1 # kaggle wants to start at 1\n",
    "for oentry in alltestsorted:\n",
    "    # compute label \n",
    "    slabel=\"b\"\n",
    "    if oentry[ioscore]>threshold: # arbitrary threshold\n",
    "        slabel=\"s\"\n",
    "\n",
    "    outputfile.write(str(oentry[ioid])+\",\")\n",
    "    outputfile.write(str(rank)+\",\")\n",
    "    outputfile.write(slabel)            \n",
    "    outputfile.write(\"\\n\")\n",
    "    rank+=1\n",
    "\n",
    "\n",
    "outputfile.close()\n",
    "\n",
    "\n"
   ]
  },
  {
   "cell_type": "code",
   "execution_count": null,
   "metadata": {},
   "outputs": [],
   "source": []
  }
 ],
 "metadata": {
  "kernelspec": {
   "display_name": "Python 3",
   "language": "python",
   "name": "python3"
  },
  "language_info": {
   "codemirror_mode": {
    "name": "ipython",
    "version": 3
   },
   "file_extension": ".py",
   "mimetype": "text/x-python",
   "name": "python",
   "nbconvert_exporter": "python",
   "pygments_lexer": "ipython3",
   "version": "3.6.3"
  }
 },
 "nbformat": 4,
 "nbformat_minor": 2
}
