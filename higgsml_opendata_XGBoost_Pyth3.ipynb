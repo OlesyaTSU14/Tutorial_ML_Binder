{
 "cells": [
  {
   "cell_type": "code",
   "execution_count": 15,
   "metadata": {
    "scrolled": true
   },
   "outputs": [],
   "source": [
    "#%%bash\n",
    "#pip install --upgrade pip\n",
    "\n"
   ]
  },
  {
   "cell_type": "code",
   "execution_count": null,
   "metadata": {},
   "outputs": [],
   "source": [
    "#%%bash\n",
    "#pip install -r requirementsPyth.txt\n",
    "\n"
   ]
  },
  {
   "cell_type": "code",
   "execution_count": 3,
   "metadata": {},
   "outputs": [],
   "source": [
    "\"\"\"\n",
    "ATLAS Higgs Machine Learning Challenge 2014\n",
    "\n",
    "#The algorithms higgsml_opendata_tmva.py was changed and adapted to work on a laptop and lxplus using a package scikit-learn instead TMVA/BDT.\n",
    "\"\"\"\n",
    "#matplotlib inline\n",
    "from array import array\n",
    "import numpy as np\n",
    "\n",
    "from numpy import loadtxt\n",
    "from xgboost import XGBClassifier\n",
    "from sklearn.model_selection import train_test_split\n",
    "from sklearn.metrics import accuracy_score\n",
    "\n",
    "import csv\n",
    "import copy\n",
    "#with open('/Users/okuchins/Olesya_work/HigsML2014/S_learn/atlas-higgs-challenge-2014-v2.csv','rb') as f:\n",
    "#    reader = csv.reader(f)\n",
    "#    your_list = map(tuple, reader)\n",
    "\n",
    "#alldata = list(csv.reader(open('/Users/okuchins/Olesya_work/HigsML2014/S_learn/atlas-higgs-challenge-2014-v2.csv',\"rb\"), delimiter=','))\n",
    "#list = map(tuple, reader)"
   ]
  },
  {
   "cell_type": "code",
   "execution_count": 5,
   "metadata": {},
   "outputs": [
    {
     "name": "stdout",
     "output_type": "stream",
     "text": [
      "header ['EventId', 'DER_mass_MMC', 'DER_mass_transverse_met_lep', 'DER_mass_vis', 'DER_pt_h', 'DER_deltaeta_jet_jet', 'DER_mass_jet_jet', 'DER_prodeta_jet_jet', 'DER_deltar_tau_lep', 'DER_pt_tot', 'DER_sum_pt', 'DER_pt_ratio_lep_tau', 'DER_met_phi_centrality', 'DER_lep_eta_centrality', 'PRI_tau_pt', 'PRI_tau_eta', 'PRI_tau_phi', 'PRI_lep_pt', 'PRI_lep_eta', 'PRI_lep_phi', 'PRI_met', 'PRI_met_phi', 'PRI_met_sumet', 'PRI_jet_num', 'PRI_jet_leading_pt', 'PRI_jet_leading_eta', 'PRI_jet_leading_phi', 'PRI_jet_subleading_pt', 'PRI_jet_subleading_eta', 'PRI_jet_subleading_phi', 'PRI_jet_all_pt', 'Weight', 'Label', 'KaggleSet', 'KaggleWeight']\n"
     ]
    }
   ],
   "source": [
    "#dataset\n",
    "datafile=\"atlas-higgs-challenge-2014-v2.csv\"\n",
    "# load the CSV file as a numpy matrix\n",
    "alldata = list(csv.reader(open(datafile,\"r\"), delimiter=','))\n",
    "\n",
    "# first line is the list of variables, put it aside\n",
    "header        = alldata.pop(0)\n",
    "print(\"header\", header)"
   ]
  },
  {
   "cell_type": "code",
   "execution_count": 6,
   "metadata": {},
   "outputs": [
    {
     "name": "stdout",
     "output_type": "stream",
     "text": [
      "ilabel 32\n"
     ]
    }
   ],
   "source": [
    "# deal with some exception\n",
    "iid=header.index(\"EventId\")\n",
    "ilabel=header.index(\"Label\")\n",
    "ikaggleset=header.index(\"KaggleSet\")\n",
    "ikaggleweight=header.index(\"KaggleWeight\")\n",
    "iweight=header.index(\"Weight\") # original weight     \n",
    "immc=header.index(\"DER_mass_MMC\")\n",
    "injet=header.index(\"PRI_jet_num\")\n",
    "exclude_index = [iid, ilabel, ikaggleset, ikaggleweight, iweight, immc, injet]\n",
    "print(\"ilabel\", ilabel) \n",
    "\n",
    "for entry in alldata:\n",
    "    for i in range(len(entry)):\n",
    "        if i in [iid,injet]:\n",
    "            entry[i]=int(entry[i])\n",
    "        elif i not in [ilabel,ikaggleset]:\n",
    "            entry[i]=float(entry[i])\n",
    "\n",
    "data_train = []\n",
    "data_test = []\n",
    "\n",
    "\n"
   ]
  },
  {
   "cell_type": "code",
   "execution_count": 8,
   "metadata": {},
   "outputs": [
    {
     "name": "stdout",
     "output_type": "stream",
     "text": [
      "Number of train is 0\n",
      "data_train [[100000, 138.47, 51.655, 97.827, 27.98, 0.91, 124.711, 2.666, 3.064, 41.928, 197.76, 1.582, 1.396, 0.2, 32.638, 1.017, 0.381, 51.626, 2.273, -2.414, 16.824, -0.277, 258.733, 2, 67.435, 2.15, 0.444, 46.062, 1.24, -2.475, 113.497, 0.00081448039868, 1, 0, 0.00265331133733], [100001, 160.937, 68.768, 103.235, 48.146, -999.0, -999.0, -999.0, 3.473, 2.078, 125.157, 0.879, 1.414, -999.0, 42.014, 2.039, -3.011, 36.918, 0.501, 0.103, 44.704, -1.916, 164.546, 1, 46.226, 0.725, 1.158, -999.0, -999.0, -999.0, 46.226, 0.681041906806, 0, 0, 2.23358448717]]\n",
      "Number of test is 0\n",
      "data_test [[350000, -999.0, 79.589, 23.916, 3.036, -999.0, -999.0, -999.0, 0.903, 3.036, 56.018, 1.536, -1.404, -999.0, 22.088, -0.54, -0.609, 33.93, -0.504, -1.511, 48.509, 2.022, 98.556, 0, -999.0, -999.0, -999.0, -999.0, -999.0, -999.0, -0.0, 1.38090387249, 0, 10, 11.2466766407], [350008, 70.958, 66.329, 60.95, 0.758, -999.0, -999.0, -999.0, 2.37, 0.758, 66.573, 1.593, -1.38, -999.0, 25.676, 1.513, 0.095, 40.897, 1.132, 2.434, 30.277, -1.389, 102.088, 0, -999.0, -999.0, -999.0, -999.0, -999.0, -999.0, -0.0, 1.41208474085, 0, 10, 11.5006270791]]\n"
     ]
    }
   ],
   "source": [
    "sumselsig=0.\n",
    "sumselbkg=0.\n",
    "sumallsig=0.\n",
    "sumallbkg=0.\n",
    "sumsubsig=0.\n",
    "sumsubbkg=0.\n",
    "t=0\n",
    "b=0\n",
    "v=0\n",
    "u=0\n",
    "\n",
    "sumselkagglesig=0.\n",
    "sumselkagglebkg=0.\n",
    "\n",
    "for entry in alldata:\n",
    "   \n",
    "    weight=entry[iweight]\n",
    "    kaggleweight=entry[ikaggleweight]    \n",
    "\n",
    "    if entry[ilabel]==\"s\":\n",
    "        sumallsig+=weight\n",
    "    else:\n",
    "        sumallbkg+=weight    \n",
    "\n",
    "    if entry[ikaggleset]==\"t\":\n",
    "        t+=1 \n",
    "        data_train.append(entry)\n",
    "    if entry[ikaggleset]==\"b\":\n",
    "        b+=1\n",
    "        data_test.append(entry)\n",
    "    if entry[ikaggleset]==\"v\":\n",
    "        v+=1\n",
    "    if entry[ikaggleset]==\"u\":\n",
    "        u+=1      \n",
    "\n",
    "    if entry[ikaggleset]!=\"b\":\n",
    "        continue\n",
    "\n",
    "    if entry[ilabel]==\"s\":\n",
    "        sumsubsig+=weight\n",
    "    else:\n",
    "        sumsubbkg+=weight  \n",
    "\n",
    "\n",
    "print(\"Number of train is\", (t))  \n",
    "print(\"data_train\", data_train[0:2])\n",
    "print(\"Number of test is\", (b))\n",
    "print(\"data_test\", data_test[0:2])    "
   ]
  },
  {
   "cell_type": "code",
   "execution_count": 9,
   "metadata": {},
   "outputs": [
    {
     "name": "stdout",
     "output_type": "stream",
     "text": [
      "Length of X train is 250000\n",
      "x_train [[51.655, 97.827, 27.98, 0.91, 124.711, 2.666, 3.064, 41.928, 197.76, 1.582, 1.396, 0.2, 32.638, 1.017, 0.381, 51.626, 2.273, -2.414, 16.824, -0.277, 258.733, 67.435, 2.15, 0.444, 46.062, 1.24, -2.475, 113.497]]\n",
      "Length of Y train is 250000\n",
      "y_train [1]\n",
      "Length of X test is 100000\n",
      "x_test [[79.589, 23.916, 3.036, -999.0, -999.0, -999.0, 0.903, 3.036, 56.018, 1.536, -1.404, -999.0, 22.088, -0.54, -0.609, 33.93, -0.504, -1.511, 48.509, 2.022, 98.556, -999.0, -999.0, -999.0, -999.0, -999.0, -999.0, -0.0]]\n",
      "Length of Y test is 100000\n",
      "y_test [0]\n"
     ]
    }
   ],
   "source": [
    "x_train = []\n",
    "x_test = []\n",
    "y_train = []\n",
    "y_test = []\n",
    "\n",
    "for row in data_train:\n",
    "    newrow = copy.deepcopy(row)\n",
    "    for el in sorted(exclude_index, reverse=True):\n",
    "        del newrow[el]\n",
    "    x_train.append(newrow)\n",
    "    y_train.append(row[ilabel])\n",
    "\n",
    "for row in data_test:\n",
    "    newrow = copy.deepcopy(row)\n",
    "    for el in sorted(exclude_index, reverse=True):\n",
    "        del newrow[el]\n",
    "    x_test.append(newrow)\n",
    "    y_test.append(row[ilabel]) \n",
    "    \n",
    "\n",
    "\n",
    "print(\"Length of X train is\", (len(x_train)))  \n",
    "print(\"x_train\", x_train[0:1])\n",
    "print(\"Length of Y train is\", (len(y_train)))  \n",
    "print(\"y_train\", y_train[0:1])\n",
    "print(\"Length of X test is\", (len(x_test)))\n",
    "print(\"x_test\", x_test[0:1]) \n",
    "print(\"Length of Y test is\", (len(y_test)))\n",
    "print(\"y_test\", y_test[0:1])    "
   ]
  },
  {
   "cell_type": "code",
   "execution_count": 10,
   "metadata": {},
   "outputs": [
    {
     "name": "stdout",
     "output_type": "stream",
     "text": [
      "XGBClassifier(base_score=0.5, booster='gbtree', colsample_bylevel=1,\n",
      "       colsample_bytree=1, gamma=0, learning_rate=0.1, max_delta_step=0,\n",
      "       max_depth=3, min_child_weight=1, missing=None, n_estimators=100,\n",
      "       n_jobs=1, nthread=None, objective='binary:logistic', random_state=0,\n",
      "       reg_alpha=0, reg_lambda=1, scale_pos_weight=1, seed=None,\n",
      "       silent=True, subsample=1)\n"
     ]
    }
   ],
   "source": [
    "# fit model no training data\n",
    "x_train = np.array(x_train)\n",
    "x_train =np.array(x_train)\n",
    "\n",
    "model = XGBClassifier()\n",
    "model.fit(x_train, y_train)\n",
    "\n",
    "print(model)"
   ]
  },
  {
   "cell_type": "code",
   "execution_count": 12,
   "metadata": {},
   "outputs": [
    {
     "name": "stdout",
     "output_type": "stream",
     "text": [
      "Accuracy: 82.407\n"
     ]
    }
   ],
   "source": [
    "# make predictions for test data\n",
    "y_pred = model.predict(x_test)\n",
    "\n",
    "#print (value)\n",
    "predictions = y_pred\n",
    "\n",
    "# evaluate predictions\n",
    "accuracy = accuracy_score(y_test, predictions)\n",
    "print(\"Accuracy:\", (accuracy * 100.0))\n",
    "\n"
   ]
  },
  {
   "cell_type": "code",
   "execution_count": null,
   "metadata": {},
   "outputs": [],
   "source": []
  }
 ],
 "metadata": {
  "kernelspec": {
   "display_name": "Python 3",
   "language": "python",
   "name": "python3"
  },
  "language_info": {
   "codemirror_mode": {
    "name": "ipython",
    "version": 3
   },
   "file_extension": ".py",
   "mimetype": "text/x-python",
   "name": "python",
   "nbconvert_exporter": "python",
   "pygments_lexer": "ipython3",
   "version": "3.6.3"
  }
 },
 "nbformat": 4,
 "nbformat_minor": 2
}
